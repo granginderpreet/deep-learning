{
 "cells": [
  {
   "cell_type": "markdown",
   "metadata": {},
   "source": [
    "## Preprocessing"
   ]
  },
  {
   "cell_type": "code",
   "execution_count": 281,
   "metadata": {},
   "outputs": [
    {
     "data": {
      "text/html": [
       "<div>\n",
       "<style scoped>\n",
       "    .dataframe tbody tr th:only-of-type {\n",
       "        vertical-align: middle;\n",
       "    }\n",
       "\n",
       "    .dataframe tbody tr th {\n",
       "        vertical-align: top;\n",
       "    }\n",
       "\n",
       "    .dataframe thead th {\n",
       "        text-align: right;\n",
       "    }\n",
       "</style>\n",
       "<table border=\"1\" class=\"dataframe\">\n",
       "  <thead>\n",
       "    <tr style=\"text-align: right;\">\n",
       "      <th></th>\n",
       "      <th>EIN</th>\n",
       "      <th>NAME</th>\n",
       "      <th>APPLICATION_TYPE</th>\n",
       "      <th>AFFILIATION</th>\n",
       "      <th>CLASSIFICATION</th>\n",
       "      <th>USE_CASE</th>\n",
       "      <th>ORGANIZATION</th>\n",
       "      <th>STATUS</th>\n",
       "      <th>INCOME_AMT</th>\n",
       "      <th>SPECIAL_CONSIDERATIONS</th>\n",
       "      <th>ASK_AMT</th>\n",
       "      <th>IS_SUCCESSFUL</th>\n",
       "    </tr>\n",
       "  </thead>\n",
       "  <tbody>\n",
       "    <tr>\n",
       "      <th>0</th>\n",
       "      <td>10520599</td>\n",
       "      <td>BLUE KNIGHTS MOTORCYCLE CLUB</td>\n",
       "      <td>T10</td>\n",
       "      <td>Independent</td>\n",
       "      <td>C1000</td>\n",
       "      <td>ProductDev</td>\n",
       "      <td>Association</td>\n",
       "      <td>1</td>\n",
       "      <td>0</td>\n",
       "      <td>N</td>\n",
       "      <td>5000</td>\n",
       "      <td>1</td>\n",
       "    </tr>\n",
       "    <tr>\n",
       "      <th>1</th>\n",
       "      <td>10531628</td>\n",
       "      <td>AMERICAN CHESAPEAKE CLUB CHARITABLE TR</td>\n",
       "      <td>T3</td>\n",
       "      <td>Independent</td>\n",
       "      <td>C2000</td>\n",
       "      <td>Preservation</td>\n",
       "      <td>Co-operative</td>\n",
       "      <td>1</td>\n",
       "      <td>1-9999</td>\n",
       "      <td>N</td>\n",
       "      <td>108590</td>\n",
       "      <td>1</td>\n",
       "    </tr>\n",
       "    <tr>\n",
       "      <th>2</th>\n",
       "      <td>10547893</td>\n",
       "      <td>ST CLOUD PROFESSIONAL FIREFIGHTERS</td>\n",
       "      <td>T5</td>\n",
       "      <td>CompanySponsored</td>\n",
       "      <td>C3000</td>\n",
       "      <td>ProductDev</td>\n",
       "      <td>Association</td>\n",
       "      <td>1</td>\n",
       "      <td>0</td>\n",
       "      <td>N</td>\n",
       "      <td>5000</td>\n",
       "      <td>0</td>\n",
       "    </tr>\n",
       "    <tr>\n",
       "      <th>3</th>\n",
       "      <td>10553066</td>\n",
       "      <td>SOUTHSIDE ATHLETIC ASSOCIATION</td>\n",
       "      <td>T3</td>\n",
       "      <td>CompanySponsored</td>\n",
       "      <td>C2000</td>\n",
       "      <td>Preservation</td>\n",
       "      <td>Trust</td>\n",
       "      <td>1</td>\n",
       "      <td>10000-24999</td>\n",
       "      <td>N</td>\n",
       "      <td>6692</td>\n",
       "      <td>1</td>\n",
       "    </tr>\n",
       "    <tr>\n",
       "      <th>4</th>\n",
       "      <td>10556103</td>\n",
       "      <td>GENETIC RESEARCH INSTITUTE OF THE DESERT</td>\n",
       "      <td>T3</td>\n",
       "      <td>Independent</td>\n",
       "      <td>C1000</td>\n",
       "      <td>Heathcare</td>\n",
       "      <td>Trust</td>\n",
       "      <td>1</td>\n",
       "      <td>100000-499999</td>\n",
       "      <td>N</td>\n",
       "      <td>142590</td>\n",
       "      <td>1</td>\n",
       "    </tr>\n",
       "  </tbody>\n",
       "</table>\n",
       "</div>"
      ],
      "text/plain": [
       "        EIN                                      NAME APPLICATION_TYPE  \\\n",
       "0  10520599              BLUE KNIGHTS MOTORCYCLE CLUB              T10   \n",
       "1  10531628    AMERICAN CHESAPEAKE CLUB CHARITABLE TR               T3   \n",
       "2  10547893        ST CLOUD PROFESSIONAL FIREFIGHTERS               T5   \n",
       "3  10553066            SOUTHSIDE ATHLETIC ASSOCIATION               T3   \n",
       "4  10556103  GENETIC RESEARCH INSTITUTE OF THE DESERT               T3   \n",
       "\n",
       "        AFFILIATION CLASSIFICATION      USE_CASE  ORGANIZATION  STATUS  \\\n",
       "0       Independent          C1000    ProductDev   Association       1   \n",
       "1       Independent          C2000  Preservation  Co-operative       1   \n",
       "2  CompanySponsored          C3000    ProductDev   Association       1   \n",
       "3  CompanySponsored          C2000  Preservation         Trust       1   \n",
       "4       Independent          C1000     Heathcare         Trust       1   \n",
       "\n",
       "      INCOME_AMT SPECIAL_CONSIDERATIONS  ASK_AMT  IS_SUCCESSFUL  \n",
       "0              0                      N     5000              1  \n",
       "1         1-9999                      N   108590              1  \n",
       "2              0                      N     5000              0  \n",
       "3    10000-24999                      N     6692              1  \n",
       "4  100000-499999                      N   142590              1  "
      ]
     },
     "execution_count": 281,
     "metadata": {},
     "output_type": "execute_result"
    }
   ],
   "source": [
    "# Import our dependencies\n",
    "from sklearn.model_selection import train_test_split\n",
    "from sklearn.preprocessing import StandardScaler\n",
    "import pandas as pd\n",
    "import tensorflow as tf\n",
    "\n",
    "#  Import and read the charity_data.csv.\n",
    "import pandas as pd \n",
    "application_df = pd.read_csv(\"../Resources/charity_data.csv\")\n",
    "application_df.head()"
   ]
  },
  {
   "cell_type": "code",
   "execution_count": 282,
   "metadata": {},
   "outputs": [],
   "source": [
    "# Drop the non-beneficial ID columns, 'EIN' and 'NAME'.\n",
    "application_df=application_df.drop(columns=\"EIN\")\n",
    "application_df=application_df.drop(columns=\"NAME\")\n",
    "application_df=application_df.drop(columns=\"SPECIAL_CONSIDERATIONS\")"
   ]
  },
  {
   "cell_type": "code",
   "execution_count": 283,
   "metadata": {},
   "outputs": [],
   "source": [
    "# Determine the number of unique values in each column.\n",
    "#  YOUR CODE GOES HERE"
   ]
  },
  {
   "cell_type": "code",
   "execution_count": 284,
   "metadata": {},
   "outputs": [
    {
     "data": {
      "text/plain": [
       "APPLICATION_TYPE      17\n",
       "AFFILIATION            6\n",
       "CLASSIFICATION        71\n",
       "USE_CASE               5\n",
       "ORGANIZATION           4\n",
       "STATUS                 2\n",
       "INCOME_AMT             9\n",
       "ASK_AMT             8747\n",
       "IS_SUCCESSFUL          2\n",
       "dtype: int64"
      ]
     },
     "execution_count": 284,
     "metadata": {},
     "output_type": "execute_result"
    }
   ],
   "source": [
    "application_df.nunique()"
   ]
  },
  {
   "cell_type": "code",
   "execution_count": 285,
   "metadata": {},
   "outputs": [],
   "source": [
    "# Look at APPLICATION_TYPE value counts for binning\n",
    "#  YOUR CODE GOES HERE"
   ]
  },
  {
   "cell_type": "code",
   "execution_count": 286,
   "metadata": {},
   "outputs": [
    {
     "name": "stdout",
     "output_type": "stream",
     "text": [
      "APPLICATION_TYPE\n",
      "T3                  27037\n",
      "T4                   1542\n",
      "T6                   1216\n",
      "T5                   1173\n",
      "T19                  1065\n",
      "T8                    737\n",
      "T7                    725\n",
      "T10                   528\n",
      "T9                    156\n",
      "T13                    66\n",
      "T12                    27\n",
      "T2                     16\n",
      "T14                     3\n",
      "T25                     3\n",
      "T29                     2\n",
      "T15                     2\n",
      "T17                     1\n",
      "dtype: int64\n"
     ]
    }
   ],
   "source": [
    "print(application_df.value_counts([\"APPLICATION_TYPE\"], sort=True))\n"
   ]
  },
  {
   "cell_type": "code",
   "execution_count": 287,
   "metadata": {},
   "outputs": [
    {
     "name": "stdout",
     "output_type": "stream",
     "text": [
      "ASK_AMT   \n",
      "5000          25398\n",
      "63981             3\n",
      "10478             3\n",
      "15583             3\n",
      "6725              3\n",
      "              ...  \n",
      "53268             1\n",
      "53251             1\n",
      "53248             1\n",
      "53241             1\n",
      "8597806340        1\n",
      "Length: 8747, dtype: int64\n"
     ]
    }
   ],
   "source": [
    "\n",
    "print(application_df.value_counts([\"ASK_AMT\"], sort=True))"
   ]
  },
  {
   "cell_type": "code",
   "execution_count": 288,
   "metadata": {},
   "outputs": [
    {
     "data": {
      "text/plain": [
       "(-8592801.341, 85983013.4]      34186\n",
       "(85983013.4, 171961026.8]          33\n",
       "(171961026.8, 257939040.2]         24\n",
       "(257939040.2, 343917053.6]          9\n",
       "(343917053.6, 429895067.0]          5\n",
       "                                ...  \n",
       "(8167916273.0, 8253894286.4]        0\n",
       "(8253894286.4, 8339872299.8]        0\n",
       "(8339872299.8, 8425850313.2]        0\n",
       "(8425850313.2, 8511828326.6]        0\n",
       "(8511828326.6, 8597806340.0]        2\n",
       "Name: ASK_AMT, Length: 100, dtype: int64"
      ]
     },
     "execution_count": 288,
     "metadata": {},
     "output_type": "execute_result"
    }
   ],
   "source": [
    "#application_df=application_df[application_df.groupby('ASK_AMT').ASK_AMT.transform('count')>10].copy() \n",
    "application_df['ASK_AMT'].value_counts(bins = 100, sort=False)\n",
    "\n"
   ]
  },
  {
   "cell_type": "code",
   "execution_count": 289,
   "metadata": {},
   "outputs": [
    {
     "name": "stdout",
     "output_type": "stream",
     "text": [
      "ASK_AMT   \n",
      "5000          25398\n",
      "63981             3\n",
      "10478             3\n",
      "15583             3\n",
      "6725              3\n",
      "              ...  \n",
      "53268             1\n",
      "53251             1\n",
      "53248             1\n",
      "53241             1\n",
      "8597806340        1\n",
      "Length: 8747, dtype: int64\n"
     ]
    }
   ],
   "source": [
    "print(application_df.value_counts([\"ASK_AMT\"], sort=True))"
   ]
  },
  {
   "cell_type": "code",
   "execution_count": null,
   "metadata": {},
   "outputs": [],
   "source": [
    "\n"
   ]
  },
  {
   "cell_type": "code",
   "execution_count": 290,
   "metadata": {},
   "outputs": [
    {
     "name": "stdout",
     "output_type": "stream",
     "text": [
      "APPLICATION_TYPE\n",
      "T3                  27037\n",
      "T4                   1542\n",
      "T6                   1216\n",
      "T5                   1173\n",
      "T19                  1065\n",
      "T8                    737\n",
      "T7                    725\n",
      "T10                   528\n",
      "Other                 276\n",
      "dtype: int64\n"
     ]
    }
   ],
   "source": [
    "# Choose a cutoff value and create a list of application types to be replaced\n",
    "# use the variable name `application_types_to_replace`\n",
    "#  YOUR CODE GOES HERE\n",
    "\n",
    "import numpy as np\n",
    "application_types_to_replace=application_df.APPLICATION_TYPE.value_counts()\n",
    "val=application_types_to_replace[:8].index\n",
    "application_df['APPLICATION_TYPE'] = application_df.APPLICATION_TYPE.where(application_df.APPLICATION_TYPE.isin(val), 'Other')\n",
    "print(application_df.value_counts([\"APPLICATION_TYPE\"], sort=True))\n"
   ]
  },
  {
   "cell_type": "code",
   "execution_count": 291,
   "metadata": {},
   "outputs": [],
   "source": [
    "application_df=application_df[application_df.groupby('CLASSIFICATION').CLASSIFICATION.transform('count')>1].copy() "
   ]
  },
  {
   "cell_type": "code",
   "execution_count": 292,
   "metadata": {},
   "outputs": [
    {
     "name": "stdout",
     "output_type": "stream",
     "text": [
      "CLASSIFICATION\n",
      "C1000             17326\n",
      "C2000              6074\n",
      "C1200              4837\n",
      "C3000              1918\n",
      "C2100              1883\n",
      "C7000               777\n",
      "C1700               287\n",
      "C4000               194\n",
      "C5000               116\n",
      "C1270               114\n",
      "C2700               104\n",
      "C2800                95\n",
      "C7100                75\n",
      "C1300                58\n",
      "C1280                50\n",
      "C1230                36\n",
      "C1400                34\n",
      "C7200                32\n",
      "C2300                32\n",
      "C1240                30\n",
      "C8000                20\n",
      "C7120                18\n",
      "C1500                16\n",
      "C6000                15\n",
      "C1800                15\n",
      "C1250                14\n",
      "C8200                11\n",
      "C1278                10\n",
      "C1238                10\n",
      "C1235                 9\n",
      "C1237                 9\n",
      "C7210                 7\n",
      "C1720                 6\n",
      "C4100                 6\n",
      "C2400                 6\n",
      "C1257                 5\n",
      "C1600                 5\n",
      "C1260                 3\n",
      "C2710                 3\n",
      "C0                    3\n",
      "C1256                 2\n",
      "C1246                 2\n",
      "C3200                 2\n",
      "C1267                 2\n",
      "C1234                 2\n",
      "dtype: int64\n"
     ]
    }
   ],
   "source": [
    "print(application_df.value_counts([\"CLASSIFICATION\"], sort=True))"
   ]
  },
  {
   "cell_type": "code",
   "execution_count": 293,
   "metadata": {},
   "outputs": [
    {
     "data": {
      "text/plain": [
       "C1000    17326\n",
       "C2000     6074\n",
       "C1200     4837\n",
       "C3000     1918\n",
       "C2100     1883\n",
       "C7000      777\n",
       "C1700      287\n",
       "C4000      194\n",
       "C5000      116\n",
       "C1270      114\n",
       "C2700      104\n",
       "C2800       95\n",
       "C7100       75\n",
       "C1300       58\n",
       "C1280       50\n",
       "C1230       36\n",
       "C1400       34\n",
       "C7200       32\n",
       "C2300       32\n",
       "C1240       30\n",
       "C8000       20\n",
       "C7120       18\n",
       "C1500       16\n",
       "C1800       15\n",
       "C6000       15\n",
       "C1250       14\n",
       "C8200       11\n",
       "C1238       10\n",
       "C1278       10\n",
       "C1237        9\n",
       "C1235        9\n",
       "C7210        7\n",
       "C4100        6\n",
       "C1720        6\n",
       "C2400        6\n",
       "C1600        5\n",
       "C1257        5\n",
       "C1260        3\n",
       "C2710        3\n",
       "C0           3\n",
       "C1267        2\n",
       "C1256        2\n",
       "C1234        2\n",
       "C1246        2\n",
       "C3200        2\n",
       "Name: CLASSIFICATION, dtype: int64"
      ]
     },
     "execution_count": 293,
     "metadata": {},
     "output_type": "execute_result"
    }
   ],
   "source": [
    "# Look at CLASSIFICATION value counts for binning\n",
    "#  YOUR CODE GOES HERE\n",
    "application_df = application_df[application_df.groupby('CLASSIFICATION').CLASSIFICATION.transform('count')>1].copy() \n",
    "application_df['CLASSIFICATION'].value_counts()"
   ]
  },
  {
   "cell_type": "code",
   "execution_count": 294,
   "metadata": {},
   "outputs": [
    {
     "data": {
      "text/plain": [
       "STATUS                    int64\n",
       "ASK_AMT                   int64\n",
       "IS_SUCCESSFUL             int64\n",
       "APPLICATION_TYPE_Other    uint8\n",
       "APPLICATION_TYPE_T10      uint8\n",
       "                          ...  \n",
       "INCOME_AMT_10M-50M        uint8\n",
       "INCOME_AMT_1M-5M          uint8\n",
       "INCOME_AMT_25000-99999    uint8\n",
       "INCOME_AMT_50M+           uint8\n",
       "INCOME_AMT_5M-10M         uint8\n",
       "Length: 81, dtype: object"
      ]
     },
     "execution_count": 294,
     "metadata": {},
     "output_type": "execute_result"
    }
   ],
   "source": [
    "# Convert categorical data to numeric with `pd.get_dummies`\n",
    "#  YOUR CODE GOES HERE\n",
    "application_df=pd.get_dummies(application_df)\n",
    "application_df.dtypes"
   ]
  },
  {
   "cell_type": "code",
   "execution_count": 295,
   "metadata": {},
   "outputs": [],
   "source": [
    "# Split our preprocessed data into our features and target arrays\n",
    "#  YOUR CODE GOES HERE\n",
    "\n",
    "X = application_df.drop('IS_SUCCESSFUL', axis=1)\n",
    "y = application_df['IS_SUCCESSFUL']\n",
    "\n",
    "# Split the preprocessed data into a training and testing dataset\n",
    "#  YOUR CODE GOES HERE\n",
    "X_train, X_test, y_train, y_test = train_test_split(X, y, random_state=42, stratify=y)"
   ]
  },
  {
   "cell_type": "code",
   "execution_count": 296,
   "metadata": {},
   "outputs": [],
   "source": [
    "# Create a StandardScaler instances\n",
    "scaler = StandardScaler()\n",
    "\n",
    "# Fit the StandardScaler\n",
    "X_scaler = scaler.fit(X_train)\n",
    "\n",
    "# Scale the data\n",
    "X_train_scaled = X_scaler.transform(X_train)\n",
    "X_test_scaled = X_scaler.transform(X_test)\n"
   ]
  },
  {
   "cell_type": "markdown",
   "metadata": {},
   "source": [
    "## Compile, Train and Evaluate the Model"
   ]
  },
  {
   "cell_type": "code",
   "execution_count": 297,
   "metadata": {},
   "outputs": [],
   "source": [
    "# Define the model - deep neural net, i.e., the number of input features and hidden nodes for each layer.\n",
    "#  YOUR CODE GOES HERE\n",
    "\n",
    "# Compile the Sequential model together and customize metrics\n",
    "\n",
    "\n",
    "\n",
    "# First hidden layer\n",
    "#  YOUR CODE GOES HERE\n",
    "\n",
    "# Second hidden layer\n",
    "#  YOUR CODE GOES HERE\n",
    "\n",
    "# Output layer\n",
    "#  YOUR CODE GOES HERE\n",
    "\n",
    "# Check the structure of the model\n"
   ]
  },
  {
   "cell_type": "code",
   "execution_count": 298,
   "metadata": {},
   "outputs": [
    {
     "name": "stdout",
     "output_type": "stream",
     "text": [
      "Model: \"sequential_10\"\n",
      "_________________________________________________________________\n",
      " Layer (type)                Output Shape              Param #   \n",
      "=================================================================\n",
      " dense_30 (Dense)            (None, 80)                6480      \n",
      "                                                                 \n",
      " dense_31 (Dense)            (None, 30)                2430      \n",
      "                                                                 \n",
      " dense_32 (Dense)            (None, 1)                 31        \n",
      "                                                                 \n",
      "=================================================================\n",
      "Total params: 8,941\n",
      "Trainable params: 8,941\n",
      "Non-trainable params: 0\n",
      "_________________________________________________________________\n"
     ]
    }
   ],
   "source": [
    "# Define the model - deep neural net, i.e., the number of input features and hidden nodes for each layer.\n",
    "#  YOUR CODE GOES HERE\n",
    "nn_model = tf.keras.models.Sequential()\n",
    "# Compile the Sequential model together and customize metrics\n",
    "\n",
    "\n",
    "\n",
    "# First hidden layer\n",
    "#  YOUR CODE GOES HERE\n",
    "nn_model.add(tf.keras.layers.Dense(units=80, activation=\"relu\", input_dim=80))\n",
    "\n",
    "# Second hidden layer\n",
    "#  YOUR CODE GOES HERE\n",
    "\n",
    "nn_model.add(tf.keras.layers.Dense(units=30, activation=\"relu\"))\n",
    "# Output layer\n",
    "#  YOUR CODE GOES HERE\n",
    "nn_model.add(tf.keras.layers.Dense(units=1, activation=\"sigmoid\"))\n",
    "# Check the structure of the modelnn_model = tf.keras.models.Sequential()\n",
    "\n",
    "\n",
    "nn_model.summary()"
   ]
  },
  {
   "cell_type": "code",
   "execution_count": null,
   "metadata": {},
   "outputs": [],
   "source": []
  },
  {
   "cell_type": "code",
   "execution_count": 299,
   "metadata": {},
   "outputs": [],
   "source": [
    "# Compile the model\n",
    "#  YOUR CODE GOES HERE\n",
    "nn_model.compile(loss=\"binary_crossentropy\", optimizer=\"adam\", metrics=[\"accuracy\"])"
   ]
  },
  {
   "cell_type": "code",
   "execution_count": 300,
   "metadata": {},
   "outputs": [
    {
     "name": "stdout",
     "output_type": "stream",
     "text": [
      "Epoch 1/50\n",
      "804/804 [==============================] - 2s 2ms/step - loss: 0.5697 - accuracy: 0.7227\n",
      "Epoch 2/50\n",
      "804/804 [==============================] - 1s 2ms/step - loss: 0.5534 - accuracy: 0.7302\n",
      "Epoch 3/50\n",
      "804/804 [==============================] - 1s 2ms/step - loss: 0.5481 - accuracy: 0.7332\n",
      "Epoch 4/50\n",
      "804/804 [==============================] - 1s 2ms/step - loss: 0.5468 - accuracy: 0.7340\n",
      "Epoch 5/50\n",
      "804/804 [==============================] - 1s 2ms/step - loss: 0.5446 - accuracy: 0.7345\n",
      "Epoch 6/50\n",
      "804/804 [==============================] - 1s 2ms/step - loss: 0.5434 - accuracy: 0.7359\n",
      "Epoch 7/50\n",
      "804/804 [==============================] - 1s 2ms/step - loss: 0.5421 - accuracy: 0.7366\n",
      "Epoch 8/50\n",
      "804/804 [==============================] - 1s 2ms/step - loss: 0.5408 - accuracy: 0.7363\n",
      "Epoch 9/50\n",
      "804/804 [==============================] - 2s 2ms/step - loss: 0.5402 - accuracy: 0.7379\n",
      "Epoch 10/50\n",
      "804/804 [==============================] - 1s 2ms/step - loss: 0.5399 - accuracy: 0.7375\n",
      "Epoch 11/50\n",
      "804/804 [==============================] - 1s 2ms/step - loss: 0.5388 - accuracy: 0.7374\n",
      "Epoch 12/50\n",
      "804/804 [==============================] - 1s 2ms/step - loss: 0.5386 - accuracy: 0.7387\n",
      "Epoch 13/50\n",
      "804/804 [==============================] - 1s 2ms/step - loss: 0.5378 - accuracy: 0.7374\n",
      "Epoch 14/50\n",
      "804/804 [==============================] - 1s 2ms/step - loss: 0.5380 - accuracy: 0.7381\n",
      "Epoch 15/50\n",
      "804/804 [==============================] - 1s 2ms/step - loss: 0.5372 - accuracy: 0.7387\n",
      "Epoch 16/50\n",
      "804/804 [==============================] - 1s 2ms/step - loss: 0.5361 - accuracy: 0.7393\n",
      "Epoch 17/50\n",
      "804/804 [==============================] - 1s 2ms/step - loss: 0.5366 - accuracy: 0.7394\n",
      "Epoch 18/50\n",
      "804/804 [==============================] - 1s 2ms/step - loss: 0.5359 - accuracy: 0.7393\n",
      "Epoch 19/50\n",
      "804/804 [==============================] - 1s 2ms/step - loss: 0.5357 - accuracy: 0.7400\n",
      "Epoch 20/50\n",
      "804/804 [==============================] - 1s 2ms/step - loss: 0.5354 - accuracy: 0.7404\n",
      "Epoch 21/50\n",
      "804/804 [==============================] - 1s 2ms/step - loss: 0.5350 - accuracy: 0.7397\n",
      "Epoch 22/50\n",
      "804/804 [==============================] - 1s 2ms/step - loss: 0.5345 - accuracy: 0.7408\n",
      "Epoch 23/50\n",
      "804/804 [==============================] - 1s 2ms/step - loss: 0.5343 - accuracy: 0.7393\n",
      "Epoch 24/50\n",
      "804/804 [==============================] - 1s 2ms/step - loss: 0.5345 - accuracy: 0.7399\n",
      "Epoch 25/50\n",
      "804/804 [==============================] - 1s 2ms/step - loss: 0.5335 - accuracy: 0.7406\n",
      "Epoch 26/50\n",
      "804/804 [==============================] - 1s 2ms/step - loss: 0.5336 - accuracy: 0.7402\n",
      "Epoch 27/50\n",
      "804/804 [==============================] - 1s 2ms/step - loss: 0.5334 - accuracy: 0.7396\n",
      "Epoch 28/50\n",
      "804/804 [==============================] - 1s 2ms/step - loss: 0.5331 - accuracy: 0.7414\n",
      "Epoch 29/50\n",
      "804/804 [==============================] - 1s 2ms/step - loss: 0.5331 - accuracy: 0.7408\n",
      "Epoch 30/50\n",
      "804/804 [==============================] - 1s 2ms/step - loss: 0.5329 - accuracy: 0.7417\n",
      "Epoch 31/50\n",
      "804/804 [==============================] - 1s 2ms/step - loss: 0.5325 - accuracy: 0.7413\n",
      "Epoch 32/50\n",
      "804/804 [==============================] - 1s 2ms/step - loss: 0.5326 - accuracy: 0.7416\n",
      "Epoch 33/50\n",
      "804/804 [==============================] - 1s 2ms/step - loss: 0.5326 - accuracy: 0.7419\n",
      "Epoch 34/50\n",
      "804/804 [==============================] - 1s 2ms/step - loss: 0.5321 - accuracy: 0.7414\n",
      "Epoch 35/50\n",
      "804/804 [==============================] - 1s 2ms/step - loss: 0.5319 - accuracy: 0.7430\n",
      "Epoch 36/50\n",
      "804/804 [==============================] - 1s 2ms/step - loss: 0.5322 - accuracy: 0.7412\n",
      "Epoch 37/50\n",
      "804/804 [==============================] - 1s 2ms/step - loss: 0.5314 - accuracy: 0.7417\n",
      "Epoch 38/50\n",
      "804/804 [==============================] - 1s 2ms/step - loss: 0.5316 - accuracy: 0.7423\n",
      "Epoch 39/50\n",
      "804/804 [==============================] - 1s 2ms/step - loss: 0.5310 - accuracy: 0.7420\n",
      "Epoch 40/50\n",
      "804/804 [==============================] - 1s 2ms/step - loss: 0.5312 - accuracy: 0.7414\n",
      "Epoch 41/50\n",
      "804/804 [==============================] - 2s 2ms/step - loss: 0.5305 - accuracy: 0.7426\n",
      "Epoch 42/50\n",
      "804/804 [==============================] - 1s 2ms/step - loss: 0.5309 - accuracy: 0.7428\n",
      "Epoch 43/50\n",
      "804/804 [==============================] - 1s 2ms/step - loss: 0.5306 - accuracy: 0.7414\n",
      "Epoch 44/50\n",
      "804/804 [==============================] - 1s 2ms/step - loss: 0.5305 - accuracy: 0.7435\n",
      "Epoch 45/50\n",
      "804/804 [==============================] - 1s 2ms/step - loss: 0.5304 - accuracy: 0.7425\n",
      "Epoch 46/50\n",
      "804/804 [==============================] - 1s 2ms/step - loss: 0.5304 - accuracy: 0.7429\n",
      "Epoch 47/50\n",
      "804/804 [==============================] - 1s 2ms/step - loss: 0.5302 - accuracy: 0.7430\n",
      "Epoch 48/50\n",
      "804/804 [==============================] - 1s 2ms/step - loss: 0.5300 - accuracy: 0.7429\n",
      "Epoch 49/50\n",
      "804/804 [==============================] - 1s 2ms/step - loss: 0.5302 - accuracy: 0.7434\n",
      "Epoch 50/50\n",
      "804/804 [==============================] - 1s 2ms/step - loss: 0.5300 - accuracy: 0.7426\n"
     ]
    }
   ],
   "source": [
    "#Train the model\n",
    "fit_model = nn_model.fit(X_train_scaled, y_train, epochs=50)\n"
   ]
  },
  {
   "cell_type": "code",
   "execution_count": 301,
   "metadata": {},
   "outputs": [],
   "source": [
    "# Evaluate the model using the test data\n",
    "# model_loss, model_accuracy = nn.evaluate(X_test_scaled,y_test,verbose=2)\n",
    "# print(f\"Loss: {model_loss}, Accuracy: {model_accuracy}\")"
   ]
  },
  {
   "cell_type": "code",
   "execution_count": 302,
   "metadata": {},
   "outputs": [
    {
     "name": "stdout",
     "output_type": "stream",
     "text": [
      "268/268 - 0s - loss: 0.5716 - accuracy: 0.7248 - 387ms/epoch - 1ms/step\n",
      "Loss: 0.5716357827186584, Accuracy: 0.7248220443725586\n"
     ]
    }
   ],
   "source": [
    "model_loss, model_accuracy = nn_model.evaluate(X_test_scaled,y_test,verbose=2)\n",
    "print(f\"Loss: {model_loss}, Accuracy: {model_accuracy}\")"
   ]
  },
  {
   "cell_type": "markdown",
   "metadata": {},
   "source": [
    "ASK AMOUNT is only fixed at 5000 amount\n",
    "199/199 - 0s - loss: 0.5327 - accuracy: 0.7514 - 433ms/epoch - 2ms/step\n",
    "Loss: 0.5327332615852356, Accuracy: 0.7514186501502991\n",
    "\n",
    "Without ASK amount limit to 5000,\n",
    "268/268 - 1s - loss: 0.5719 - accuracy: 0.7232 - 500ms/epoch - 2ms/step\n",
    "Loss: 0.571903645992279, Accuracy: 0.7231882214546204\n",
    "\n",
    "With 1000 bins for ASK AMOUNT:\n",
    "268/268 - 0s - loss: 0.5697 - accuracy: 0.7217 - 376ms/epoch - 1ms/step\n",
    "Loss: 0.5697351694107056, Accuracy: 0.7216711640357971\n",
    "\n",
    "With 100 bins for ASK_AMOUNT\n",
    "\n",
    "268/268 - 0s - loss: 0.5716 - accuracy: 0.7248 - 387ms/epoch - 1ms/step\n",
    "Loss: 0.5716357827186584, Accuracy: 0.7248220443725586\n",
    "\n",
    "Anser sheet\n",
    "8575/8575 - 0s - loss: 0.5578 - acc: 0.7263\n",
    "Loss: 0.557812534073699, Accuracy: 0.7262973785400391"
   ]
  },
  {
   "cell_type": "code",
   "execution_count": 58,
   "metadata": {},
   "outputs": [],
   "source": [
    "# Export our model to HDF5 file\n",
    "#  YOUR CODE GOES HERE\n",
    "nn_model.save(\"nn_model.h5\")"
   ]
  }
 ],
 "metadata": {
  "kernelspec": {
   "display_name": "Python 3",
   "language": "python",
   "name": "python3"
  },
  "language_info": {
   "codemirror_mode": {
    "name": "ipython",
    "version": 3
   },
   "file_extension": ".py",
   "mimetype": "text/x-python",
   "name": "python",
   "nbconvert_exporter": "python",
   "pygments_lexer": "ipython3",
   "version": "3.9.12"
  }
 },
 "nbformat": 4,
 "nbformat_minor": 4
}
