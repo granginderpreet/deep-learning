{
 "cells": [
  {
   "cell_type": "markdown",
   "metadata": {},
   "source": [
    "## Preprocessing"
   ]
  },
  {
   "cell_type": "code",
   "execution_count": 1,
   "metadata": {},
   "outputs": [
    {
     "data": {
      "text/html": [
       "<div>\n",
       "<style scoped>\n",
       "    .dataframe tbody tr th:only-of-type {\n",
       "        vertical-align: middle;\n",
       "    }\n",
       "\n",
       "    .dataframe tbody tr th {\n",
       "        vertical-align: top;\n",
       "    }\n",
       "\n",
       "    .dataframe thead th {\n",
       "        text-align: right;\n",
       "    }\n",
       "</style>\n",
       "<table border=\"1\" class=\"dataframe\">\n",
       "  <thead>\n",
       "    <tr style=\"text-align: right;\">\n",
       "      <th></th>\n",
       "      <th>EIN</th>\n",
       "      <th>NAME</th>\n",
       "      <th>APPLICATION_TYPE</th>\n",
       "      <th>AFFILIATION</th>\n",
       "      <th>CLASSIFICATION</th>\n",
       "      <th>USE_CASE</th>\n",
       "      <th>ORGANIZATION</th>\n",
       "      <th>STATUS</th>\n",
       "      <th>INCOME_AMT</th>\n",
       "      <th>SPECIAL_CONSIDERATIONS</th>\n",
       "      <th>ASK_AMT</th>\n",
       "      <th>IS_SUCCESSFUL</th>\n",
       "    </tr>\n",
       "  </thead>\n",
       "  <tbody>\n",
       "    <tr>\n",
       "      <th>0</th>\n",
       "      <td>10520599</td>\n",
       "      <td>BLUE KNIGHTS MOTORCYCLE CLUB</td>\n",
       "      <td>T10</td>\n",
       "      <td>Independent</td>\n",
       "      <td>C1000</td>\n",
       "      <td>ProductDev</td>\n",
       "      <td>Association</td>\n",
       "      <td>1</td>\n",
       "      <td>0</td>\n",
       "      <td>N</td>\n",
       "      <td>5000</td>\n",
       "      <td>1</td>\n",
       "    </tr>\n",
       "    <tr>\n",
       "      <th>1</th>\n",
       "      <td>10531628</td>\n",
       "      <td>AMERICAN CHESAPEAKE CLUB CHARITABLE TR</td>\n",
       "      <td>T3</td>\n",
       "      <td>Independent</td>\n",
       "      <td>C2000</td>\n",
       "      <td>Preservation</td>\n",
       "      <td>Co-operative</td>\n",
       "      <td>1</td>\n",
       "      <td>1-9999</td>\n",
       "      <td>N</td>\n",
       "      <td>108590</td>\n",
       "      <td>1</td>\n",
       "    </tr>\n",
       "    <tr>\n",
       "      <th>2</th>\n",
       "      <td>10547893</td>\n",
       "      <td>ST CLOUD PROFESSIONAL FIREFIGHTERS</td>\n",
       "      <td>T5</td>\n",
       "      <td>CompanySponsored</td>\n",
       "      <td>C3000</td>\n",
       "      <td>ProductDev</td>\n",
       "      <td>Association</td>\n",
       "      <td>1</td>\n",
       "      <td>0</td>\n",
       "      <td>N</td>\n",
       "      <td>5000</td>\n",
       "      <td>0</td>\n",
       "    </tr>\n",
       "    <tr>\n",
       "      <th>3</th>\n",
       "      <td>10553066</td>\n",
       "      <td>SOUTHSIDE ATHLETIC ASSOCIATION</td>\n",
       "      <td>T3</td>\n",
       "      <td>CompanySponsored</td>\n",
       "      <td>C2000</td>\n",
       "      <td>Preservation</td>\n",
       "      <td>Trust</td>\n",
       "      <td>1</td>\n",
       "      <td>10000-24999</td>\n",
       "      <td>N</td>\n",
       "      <td>6692</td>\n",
       "      <td>1</td>\n",
       "    </tr>\n",
       "    <tr>\n",
       "      <th>4</th>\n",
       "      <td>10556103</td>\n",
       "      <td>GENETIC RESEARCH INSTITUTE OF THE DESERT</td>\n",
       "      <td>T3</td>\n",
       "      <td>Independent</td>\n",
       "      <td>C1000</td>\n",
       "      <td>Heathcare</td>\n",
       "      <td>Trust</td>\n",
       "      <td>1</td>\n",
       "      <td>100000-499999</td>\n",
       "      <td>N</td>\n",
       "      <td>142590</td>\n",
       "      <td>1</td>\n",
       "    </tr>\n",
       "  </tbody>\n",
       "</table>\n",
       "</div>"
      ],
      "text/plain": [
       "        EIN                                      NAME APPLICATION_TYPE  \\\n",
       "0  10520599              BLUE KNIGHTS MOTORCYCLE CLUB              T10   \n",
       "1  10531628    AMERICAN CHESAPEAKE CLUB CHARITABLE TR               T3   \n",
       "2  10547893        ST CLOUD PROFESSIONAL FIREFIGHTERS               T5   \n",
       "3  10553066            SOUTHSIDE ATHLETIC ASSOCIATION               T3   \n",
       "4  10556103  GENETIC RESEARCH INSTITUTE OF THE DESERT               T3   \n",
       "\n",
       "        AFFILIATION CLASSIFICATION      USE_CASE  ORGANIZATION  STATUS  \\\n",
       "0       Independent          C1000    ProductDev   Association       1   \n",
       "1       Independent          C2000  Preservation  Co-operative       1   \n",
       "2  CompanySponsored          C3000    ProductDev   Association       1   \n",
       "3  CompanySponsored          C2000  Preservation         Trust       1   \n",
       "4       Independent          C1000     Heathcare         Trust       1   \n",
       "\n",
       "      INCOME_AMT SPECIAL_CONSIDERATIONS  ASK_AMT  IS_SUCCESSFUL  \n",
       "0              0                      N     5000              1  \n",
       "1         1-9999                      N   108590              1  \n",
       "2              0                      N     5000              0  \n",
       "3    10000-24999                      N     6692              1  \n",
       "4  100000-499999                      N   142590              1  "
      ]
     },
     "execution_count": 1,
     "metadata": {},
     "output_type": "execute_result"
    }
   ],
   "source": [
    "# Import our dependencies\n",
    "from sklearn.model_selection import train_test_split\n",
    "from sklearn.preprocessing import StandardScaler\n",
    "import pandas as pd\n",
    "import tensorflow as tf\n",
    "\n",
    "#  Import and read the charity_data.csv.\n",
    "import pandas as pd \n",
    "application_df = pd.read_csv(\"Resources/charity_data.csv\")\n",
    "application_df.head()"
   ]
  },
  {
   "cell_type": "code",
   "execution_count": 2,
   "metadata": {},
   "outputs": [],
   "source": [
    "# Drop the non-beneficial ID columns, 'EIN' and 'NAME'.\n",
    "application_df=application_df.drop(columns=\"EIN\")\n",
    "application_df=application_df.drop(columns=\"NAME\")\n",
    "#Deleted this as well.\n",
    "application_df=application_df.drop(columns=\"SPECIAL_CONSIDERATIONS\")"
   ]
  },
  {
   "cell_type": "code",
   "execution_count": 3,
   "metadata": {},
   "outputs": [
    {
     "data": {
      "text/plain": [
       "APPLICATION_TYPE      17\n",
       "AFFILIATION            6\n",
       "CLASSIFICATION        71\n",
       "USE_CASE               5\n",
       "ORGANIZATION           4\n",
       "STATUS                 2\n",
       "INCOME_AMT             9\n",
       "ASK_AMT             8747\n",
       "IS_SUCCESSFUL          2\n",
       "dtype: int64"
      ]
     },
     "execution_count": 3,
     "metadata": {},
     "output_type": "execute_result"
    }
   ],
   "source": [
    "# Determine the number of unique values in each column.\n",
    "application_df.nunique()"
   ]
  },
  {
   "cell_type": "code",
   "execution_count": 4,
   "metadata": {},
   "outputs": [],
   "source": [
    "\n",
    "#  YOUR CODE GOES HERE"
   ]
  },
  {
   "cell_type": "code",
   "execution_count": 5,
   "metadata": {},
   "outputs": [
    {
     "name": "stdout",
     "output_type": "stream",
     "text": [
      "APPLICATION_TYPE\n",
      "T3                  27037\n",
      "T4                   1542\n",
      "T6                   1216\n",
      "T5                   1173\n",
      "T19                  1065\n",
      "T8                    737\n",
      "T7                    725\n",
      "T10                   528\n",
      "T9                    156\n",
      "T13                    66\n",
      "T12                    27\n",
      "T2                     16\n",
      "T14                     3\n",
      "T25                     3\n",
      "T29                     2\n",
      "T15                     2\n",
      "T17                     1\n",
      "dtype: int64\n"
     ]
    }
   ],
   "source": [
    "# Look at APPLICATION_TYPE value counts for binning\n",
    "print(application_df.value_counts([\"APPLICATION_TYPE\"], sort=True))\n"
   ]
  },
  {
   "cell_type": "code",
   "execution_count": 6,
   "metadata": {},
   "outputs": [
    {
     "name": "stdout",
     "output_type": "stream",
     "text": [
      "APPLICATION_TYPE\n",
      "T3                  27037\n",
      "T4                   1542\n",
      "T6                   1216\n",
      "T5                   1173\n",
      "T19                  1065\n",
      "T8                    737\n",
      "T7                    725\n",
      "T10                   528\n",
      "Other                 276\n",
      "dtype: int64\n"
     ]
    }
   ],
   "source": [
    "# Choose a cutoff value and create a list of application types to be replaced\n",
    "# use the variable name `application_types_to_replace`\n",
    "#  YOUR CODE GOES HERE\n",
    "\n",
    "import numpy as np\n",
    "application_types_to_replace=application_df.APPLICATION_TYPE.value_counts()\n",
    "val=application_types_to_replace[:8].index\n",
    "application_df['APPLICATION_TYPE'] = application_df.APPLICATION_TYPE.where(application_df.APPLICATION_TYPE.isin(val), 'Other')\n",
    "print(application_df.value_counts([\"APPLICATION_TYPE\"], sort=True))"
   ]
  },
  {
   "cell_type": "code",
   "execution_count": 7,
   "metadata": {},
   "outputs": [
    {
     "name": "stdout",
     "output_type": "stream",
     "text": [
      "ASK_AMT   \n",
      "5000          25398\n",
      "63981             3\n",
      "10478             3\n",
      "15583             3\n",
      "6725              3\n",
      "              ...  \n",
      "53268             1\n",
      "53251             1\n",
      "53248             1\n",
      "53241             1\n",
      "8597806340        1\n",
      "Length: 8747, dtype: int64\n"
     ]
    }
   ],
   "source": [
    "#Check the ASK AMOUNT feature\n",
    "print(application_df.value_counts([\"ASK_AMT\"], sort=True))"
   ]
  },
  {
   "cell_type": "markdown",
   "metadata": {},
   "source": [
    "# Next Cell modifed the ASK_AMT using 3 approaches and compares the results from each\n",
    "1. Only consider those with ASK AMNT of $5000. This basically removes all entries with value count of less than 10 which leaves on ones with ASK_AMT of 5000. This yield the best results\n",
    "2. Bin the ASK_AMT into 100 bins\n",
    "3. Bin the ASK AMT into 1000 bins.\n",
    "4. Drop all ASK_AMT with value count less than 2"
   ]
  },
  {
   "cell_type": "code",
   "execution_count": 8,
   "metadata": {},
   "outputs": [],
   "source": [
    "\n",
    "#Option 1\n",
    "#application_df=application_df[application_df.groupby('ASK_AMT').ASK_AMT.transform('count')>10].copy() \n",
    "#Option 2\n",
    "#application_df['ASK_AMT'].value_counts(bins = 100, sort=False)\n",
    "#Option 3\n",
    "#application_df['ASK_AMT'].value_counts(bins = 1000, sort=False)\n",
    "#Option 4\n",
    "application_df=application_df[application_df.groupby('ASK_AMT').ASK_AMT.transform('count')>1].copy() \n",
    "#Option 5 No change to ASK_AMT column\n"
   ]
  },
  {
   "cell_type": "code",
   "execution_count": 9,
   "metadata": {},
   "outputs": [
    {
     "name": "stdout",
     "output_type": "stream",
     "text": [
      "ASK_AMT\n",
      "5000       25398\n",
      "10478          3\n",
      "15583          3\n",
      "63981          3\n",
      "6725           3\n",
      "           ...  \n",
      "16071          2\n",
      "16200          2\n",
      "16435          2\n",
      "16482          2\n",
      "1427468        2\n",
      "Length: 152, dtype: int64\n"
     ]
    }
   ],
   "source": [
    "print(application_df.value_counts([\"ASK_AMT\"], sort=True))"
   ]
  },
  {
   "cell_type": "code",
   "execution_count": 10,
   "metadata": {},
   "outputs": [],
   "source": [
    "# Look at CLASSIFICATION value counts for binning\n",
    "application_df=application_df[application_df.groupby('CLASSIFICATION').CLASSIFICATION.transform('count')>1].copy() "
   ]
  },
  {
   "cell_type": "code",
   "execution_count": 11,
   "metadata": {},
   "outputs": [
    {
     "name": "stdout",
     "output_type": "stream",
     "text": [
      "CLASSIFICATION\n",
      "C1000             12381\n",
      "C2000              4617\n",
      "C1200              3939\n",
      "C2100              1595\n",
      "C3000              1520\n",
      "C7000               524\n",
      "C1700               221\n",
      "C4000               122\n",
      "C5000               106\n",
      "C1270                89\n",
      "C2700                75\n",
      "C2800                62\n",
      "C7100                61\n",
      "C1280                47\n",
      "C1300                40\n",
      "C1230                35\n",
      "C2300                28\n",
      "C1240                27\n",
      "C1400                25\n",
      "C7200                20\n",
      "C6000                14\n",
      "C1250                13\n",
      "C8000                13\n",
      "C7120                12\n",
      "C8200                10\n",
      "C1278                10\n",
      "C1238                 9\n",
      "C1235                 9\n",
      "C1237                 9\n",
      "C1500                 6\n",
      "C1720                 6\n",
      "C2400                 5\n",
      "C1257                 5\n",
      "C7210                 5\n",
      "C1600                 4\n",
      "C4100                 4\n",
      "C1800                 3\n",
      "C1260                 3\n",
      "C1246                 2\n",
      "C1256                 2\n",
      "C1267                 2\n",
      "C0                    2\n",
      "dtype: int64\n"
     ]
    }
   ],
   "source": [
    "print(application_df.value_counts([\"CLASSIFICATION\"], sort=True))"
   ]
  },
  {
   "cell_type": "code",
   "execution_count": 12,
   "metadata": {},
   "outputs": [
    {
     "data": {
      "text/plain": [
       "C1000    12381\n",
       "C2000     4617\n",
       "C1200     3939\n",
       "C2100     1595\n",
       "C3000     1520\n",
       "C7000      524\n",
       "C1700      221\n",
       "C4000      122\n",
       "C5000      106\n",
       "C1270       89\n",
       "C2700       75\n",
       "C2800       62\n",
       "C7100       61\n",
       "C1280       47\n",
       "C1300       40\n",
       "C1230       35\n",
       "C2300       28\n",
       "C1240       27\n",
       "C1400       25\n",
       "C7200       20\n",
       "C6000       14\n",
       "C8000       13\n",
       "C1250       13\n",
       "C7120       12\n",
       "C8200       10\n",
       "C1278       10\n",
       "C1235        9\n",
       "C1237        9\n",
       "C1238        9\n",
       "C1500        6\n",
       "C1720        6\n",
       "C7210        5\n",
       "C1257        5\n",
       "C2400        5\n",
       "C1600        4\n",
       "C4100        4\n",
       "C1260        3\n",
       "C1800        3\n",
       "C1267        2\n",
       "C1256        2\n",
       "C1246        2\n",
       "C0           2\n",
       "Name: CLASSIFICATION, dtype: int64"
      ]
     },
     "execution_count": 12,
     "metadata": {},
     "output_type": "execute_result"
    }
   ],
   "source": [
    "#Drop all values with value count <=1\n",
    "application_df = application_df[application_df.groupby('CLASSIFICATION').CLASSIFICATION.transform('count')>1].copy() \n",
    "application_df['CLASSIFICATION'].value_counts()"
   ]
  },
  {
   "cell_type": "code",
   "execution_count": 13,
   "metadata": {},
   "outputs": [
    {
     "data": {
      "text/plain": [
       "STATUS                    int64\n",
       "ASK_AMT                   int64\n",
       "IS_SUCCESSFUL             int64\n",
       "APPLICATION_TYPE_Other    uint8\n",
       "APPLICATION_TYPE_T10      uint8\n",
       "                          ...  \n",
       "INCOME_AMT_10M-50M        uint8\n",
       "INCOME_AMT_1M-5M          uint8\n",
       "INCOME_AMT_25000-99999    uint8\n",
       "INCOME_AMT_50M+           uint8\n",
       "INCOME_AMT_5M-10M         uint8\n",
       "Length: 78, dtype: object"
      ]
     },
     "execution_count": 13,
     "metadata": {},
     "output_type": "execute_result"
    }
   ],
   "source": [
    "# Convert categorical data to numeric with `pd.get_dummies`\n",
    "\n",
    "application_df=pd.get_dummies(application_df)\n",
    "application_df.dtypes"
   ]
  },
  {
   "cell_type": "code",
   "execution_count": 14,
   "metadata": {},
   "outputs": [],
   "source": [
    "# Split our preprocessed data into our features and target arrays\n",
    "#  YOUR CODE GOES HERE\n",
    "\n",
    "X = application_df.drop('IS_SUCCESSFUL', axis=1)\n",
    "y = application_df['IS_SUCCESSFUL']\n",
    "\n",
    "# Split the preprocessed data into a training and testing dataset\n",
    "#  YOUR CODE GOES HERE\n",
    "X_train, X_test, y_train, y_test = train_test_split(X, y, random_state=42, stratify=y)"
   ]
  },
  {
   "cell_type": "code",
   "execution_count": 15,
   "metadata": {},
   "outputs": [],
   "source": [
    "# Create a StandardScaler instances\n",
    "scaler = StandardScaler()\n",
    "\n",
    "# Fit the StandardScaler\n",
    "X_scaler = scaler.fit(X_train)\n",
    "\n",
    "# Scale the data\n",
    "X_train_scaled = X_scaler.transform(X_train)\n",
    "X_test_scaled = X_scaler.transform(X_test)\n",
    "input_dim=X_train_scaled[0].size"
   ]
  },
  {
   "cell_type": "markdown",
   "metadata": {},
   "source": [
    "## Compile, Train and Evaluate the Model"
   ]
  },
  {
   "cell_type": "code",
   "execution_count": 16,
   "metadata": {},
   "outputs": [
    {
     "name": "stdout",
     "output_type": "stream",
     "text": [
      "Model: \"sequential\"\n",
      "_________________________________________________________________\n",
      " Layer (type)                Output Shape              Param #   \n",
      "=================================================================\n",
      " dense (Dense)               (None, 80)                6240      \n",
      "                                                                 \n",
      " dense_1 (Dense)             (None, 30)                2430      \n",
      "                                                                 \n",
      " dense_2 (Dense)             (None, 1)                 31        \n",
      "                                                                 \n",
      "=================================================================\n",
      "Total params: 8,701\n",
      "Trainable params: 8,701\n",
      "Non-trainable params: 0\n",
      "_________________________________________________________________\n"
     ]
    }
   ],
   "source": [
    "# Define the model - deep neural net, i.e., the number of input features and hidden nodes for each layer.\n",
    "nn_model = tf.keras.models.Sequential()\n",
    "\n",
    "# First hidden layer\n",
    "\n",
    "nn_model.add(tf.keras.layers.Dense(units=80, activation=\"relu\", input_dim=input_dim))\n",
    "\n",
    "# Second hidden layer\n",
    "nn_model.add(tf.keras.layers.Dense(units=30, activation=\"relu\"))\n",
    "# Output layer\n",
    "nn_model.add(tf.keras.layers.Dense(units=1, activation=\"sigmoid\"))\n",
    "\n",
    "# Check the structure of the modelnn_model = tf.keras.models.Sequential()\n",
    "nn_model.summary()"
   ]
  },
  {
   "cell_type": "code",
   "execution_count": 17,
   "metadata": {},
   "outputs": [],
   "source": [
    "# Compile the model\n",
    "nn_model.compile(loss=\"binary_crossentropy\", optimizer=\"adam\", metrics=[\"accuracy\"])"
   ]
  },
  {
   "cell_type": "code",
   "execution_count": 18,
   "metadata": {},
   "outputs": [
    {
     "name": "stdout",
     "output_type": "stream",
     "text": [
      "Epoch 1/50\n",
      "602/602 [==============================] - 3s 3ms/step - loss: 0.5568 - accuracy: 0.7310\n",
      "Epoch 2/50\n",
      "602/602 [==============================] - 2s 3ms/step - loss: 0.5330 - accuracy: 0.7454\n",
      "Epoch 3/50\n",
      "602/602 [==============================] - 2s 3ms/step - loss: 0.5308 - accuracy: 0.7482\n",
      "Epoch 4/50\n",
      "602/602 [==============================] - 2s 3ms/step - loss: 0.5277 - accuracy: 0.7478\n",
      "Epoch 5/50\n",
      "602/602 [==============================] - 2s 3ms/step - loss: 0.5258 - accuracy: 0.7498\n",
      "Epoch 6/50\n",
      "602/602 [==============================] - 2s 3ms/step - loss: 0.5262 - accuracy: 0.7485\n",
      "Epoch 7/50\n",
      "602/602 [==============================] - 2s 3ms/step - loss: 0.5249 - accuracy: 0.7509\n",
      "Epoch 8/50\n",
      "602/602 [==============================] - 2s 3ms/step - loss: 0.5234 - accuracy: 0.7488\n",
      "Epoch 9/50\n",
      "602/602 [==============================] - 2s 3ms/step - loss: 0.5231 - accuracy: 0.7511\n",
      "Epoch 10/50\n",
      "602/602 [==============================] - 2s 3ms/step - loss: 0.5230 - accuracy: 0.7501\n",
      "Epoch 11/50\n",
      "602/602 [==============================] - 2s 3ms/step - loss: 0.5214 - accuracy: 0.7527\n",
      "Epoch 12/50\n",
      "602/602 [==============================] - 2s 3ms/step - loss: 0.5216 - accuracy: 0.7514\n",
      "Epoch 13/50\n",
      "602/602 [==============================] - 2s 3ms/step - loss: 0.5209 - accuracy: 0.7522\n",
      "Epoch 14/50\n",
      "602/602 [==============================] - 2s 3ms/step - loss: 0.5207 - accuracy: 0.7496\n",
      "Epoch 15/50\n",
      "602/602 [==============================] - 2s 3ms/step - loss: 0.5204 - accuracy: 0.7529\n",
      "Epoch 16/50\n",
      "602/602 [==============================] - 2s 3ms/step - loss: 0.5207 - accuracy: 0.7522\n",
      "Epoch 17/50\n",
      "602/602 [==============================] - 2s 3ms/step - loss: 0.5197 - accuracy: 0.7530\n",
      "Epoch 18/50\n",
      "602/602 [==============================] - 2s 3ms/step - loss: 0.5189 - accuracy: 0.7528\n",
      "Epoch 19/50\n",
      "602/602 [==============================] - 2s 3ms/step - loss: 0.5192 - accuracy: 0.7520\n",
      "Epoch 20/50\n",
      "602/602 [==============================] - 2s 3ms/step - loss: 0.5190 - accuracy: 0.7531\n",
      "Epoch 21/50\n",
      "602/602 [==============================] - 2s 3ms/step - loss: 0.5188 - accuracy: 0.7534\n",
      "Epoch 22/50\n",
      "602/602 [==============================] - 1s 2ms/step - loss: 0.5180 - accuracy: 0.7536\n",
      "Epoch 23/50\n",
      "602/602 [==============================] - 2s 3ms/step - loss: 0.5179 - accuracy: 0.7534\n",
      "Epoch 24/50\n",
      "602/602 [==============================] - 2s 3ms/step - loss: 0.5175 - accuracy: 0.7532\n",
      "Epoch 25/50\n",
      "602/602 [==============================] - 1s 2ms/step - loss: 0.5177 - accuracy: 0.7533\n",
      "Epoch 26/50\n",
      "602/602 [==============================] - 2s 3ms/step - loss: 0.5174 - accuracy: 0.7548\n",
      "Epoch 27/50\n",
      "602/602 [==============================] - 2s 3ms/step - loss: 0.5172 - accuracy: 0.7541\n",
      "Epoch 28/50\n",
      "602/602 [==============================] - 2s 3ms/step - loss: 0.5173 - accuracy: 0.7545\n",
      "Epoch 29/50\n",
      "602/602 [==============================] - 2s 3ms/step - loss: 0.5173 - accuracy: 0.7541\n",
      "Epoch 30/50\n",
      "602/602 [==============================] - 2s 3ms/step - loss: 0.5166 - accuracy: 0.7544\n",
      "Epoch 31/50\n",
      "602/602 [==============================] - 2s 3ms/step - loss: 0.5166 - accuracy: 0.7539\n",
      "Epoch 32/50\n",
      "602/602 [==============================] - 2s 3ms/step - loss: 0.5166 - accuracy: 0.7539\n",
      "Epoch 33/50\n",
      "602/602 [==============================] - 2s 3ms/step - loss: 0.5166 - accuracy: 0.7550\n",
      "Epoch 34/50\n",
      "602/602 [==============================] - 2s 3ms/step - loss: 0.5162 - accuracy: 0.7541\n",
      "Epoch 35/50\n",
      "602/602 [==============================] - 2s 3ms/step - loss: 0.5157 - accuracy: 0.7543\n",
      "Epoch 36/50\n",
      "602/602 [==============================] - 2s 3ms/step - loss: 0.5157 - accuracy: 0.7545\n",
      "Epoch 37/50\n",
      "602/602 [==============================] - 2s 3ms/step - loss: 0.5158 - accuracy: 0.7547\n",
      "Epoch 38/50\n",
      "602/602 [==============================] - 2s 3ms/step - loss: 0.5155 - accuracy: 0.7548\n",
      "Epoch 39/50\n",
      "602/602 [==============================] - 2s 3ms/step - loss: 0.5156 - accuracy: 0.7552\n",
      "Epoch 40/50\n",
      "602/602 [==============================] - 2s 3ms/step - loss: 0.5153 - accuracy: 0.7555\n",
      "Epoch 41/50\n",
      "602/602 [==============================] - 2s 3ms/step - loss: 0.5147 - accuracy: 0.7542\n",
      "Epoch 42/50\n",
      "602/602 [==============================] - 2s 3ms/step - loss: 0.5155 - accuracy: 0.7551\n",
      "Epoch 43/50\n",
      "602/602 [==============================] - 2s 3ms/step - loss: 0.5150 - accuracy: 0.7548\n",
      "Epoch 44/50\n",
      "602/602 [==============================] - 2s 3ms/step - loss: 0.5150 - accuracy: 0.7561\n",
      "Epoch 45/50\n",
      "602/602 [==============================] - 2s 3ms/step - loss: 0.5142 - accuracy: 0.7550\n",
      "Epoch 46/50\n",
      "602/602 [==============================] - 2s 3ms/step - loss: 0.5152 - accuracy: 0.7547\n",
      "Epoch 47/50\n",
      "602/602 [==============================] - 2s 3ms/step - loss: 0.5145 - accuracy: 0.7566\n",
      "Epoch 48/50\n",
      "602/602 [==============================] - 2s 3ms/step - loss: 0.5145 - accuracy: 0.7553\n",
      "Epoch 49/50\n",
      "602/602 [==============================] - 1s 2ms/step - loss: 0.5140 - accuracy: 0.7550\n",
      "Epoch 50/50\n",
      "602/602 [==============================] - 2s 3ms/step - loss: 0.5145 - accuracy: 0.7552\n"
     ]
    }
   ],
   "source": [
    "#Train the model\n",
    "fit_model = nn_model.fit(X_train_scaled, y_train, epochs=50)\n"
   ]
  },
  {
   "cell_type": "code",
   "execution_count": 19,
   "metadata": {},
   "outputs": [
    {
     "name": "stdout",
     "output_type": "stream",
     "text": [
      "201/201 - 1s - loss: 0.5401 - accuracy: 0.7472 - 769ms/epoch - 4ms/step\n",
      "Loss: 0.5400767922401428, Accuracy: 0.7472356557846069\n"
     ]
    }
   ],
   "source": [
    "# Evaluate the model using the test data\n",
    "# model_loss, model_accuracy = nn.evaluate(X_test_scaled,y_test,verbose=2)\n",
    "# print(f\"Loss: {model_loss}, Accuracy: {model_accuracy}\")\n",
    "model_loss, model_accuracy = nn_model.evaluate(X_test_scaled,y_test,verbose=2)\n",
    "print(f\"Loss: {model_loss}, Accuracy: {model_accuracy}\")"
   ]
  },
  {
   "cell_type": "markdown",
   "metadata": {},
   "source": [
    "ASK AMOUNT is only fixed at 5000 amount\n",
    "\n",
    "199/199 - 1s - loss: 0.5345 - accuracy: 0.7502 - 719ms/epoch - 4ms/step\n",
    "Loss: 0.5344988107681274, Accuracy: 0.7501576542854309\n",
    "\n",
    "Without ASK amount limit to 5000, but limit value count to > 1\n",
    "\n",
    "201/201 - 1s - loss: 0.5493 - accuracy: 0.7466 - 637ms/epoch - 3ms/step\n",
    "Loss: 0.5492763519287109, Accuracy: 0.7466126680374146\n",
    "\n",
    "With 1000 bins for ASK AMT:\n",
    "\n",
    "268/268 - 1s - loss: 0.5664 - accuracy: 0.7238 - 875ms/epoch - 3ms/step\n",
    "Loss: 0.5663652420043945, Accuracy: 0.7237717509269714\n",
    "\n",
    "With 100 bins for ASK_AMT\n",
    "\n",
    "268/268 - 1s - loss: 0.5755 - accuracy: 0.7226 - 810ms/epoch - 3ms/step\n",
    "Loss: 0.575512707233429, Accuracy: 0.7226047515869141\n",
    "\n",
    "Without any filter on ASK_AMT\n",
    "\n",
    "201/201 - 1s - loss: 0.5401 - accuracy: 0.7472 - 769ms/epoch - 4ms/step\n",
    "Loss: 0.5400767922401428, Accuracy: 0.7472356557846069\n",
    "\n",
    "\n",
    "Answer sheet\n",
    "\n",
    "8575/8575 - 0s - loss: 0.5578 - acc: 0.7263\n",
    "Loss: 0.557812534073699, Accuracy: 0.7262973785400391"
   ]
  },
  {
   "cell_type": "code",
   "execution_count": 21,
   "metadata": {},
   "outputs": [],
   "source": [
    "# Export our model to HDF5 file\n",
    "#  YOUR CODE GOES HERE\n",
    "nn_model.save(\"nn_model.h5\")"
   ]
  }
 ],
 "metadata": {
  "kernelspec": {
   "display_name": "Python 3",
   "language": "python",
   "name": "python3"
  },
  "language_info": {
   "codemirror_mode": {
    "name": "ipython",
    "version": 3
   },
   "file_extension": ".py",
   "mimetype": "text/x-python",
   "name": "python",
   "nbconvert_exporter": "python",
   "pygments_lexer": "ipython3",
   "version": "3.9.12"
  }
 },
 "nbformat": 4,
 "nbformat_minor": 4
}
